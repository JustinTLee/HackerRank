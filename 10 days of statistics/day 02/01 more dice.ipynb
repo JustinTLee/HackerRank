{
 "cells": [
  {
   "cell_type": "markdown",
   "metadata": {},
   "source": [
    "## Problem"
   ]
  },
  {
   "cell_type": "markdown",
   "metadata": {},
   "source": [
    "In a single toss of 2 fair (evenly-weighted) six-sided dice, find the probability that the values rolled by each die will be different and the two dice have a sum of 6."
   ]
  },
  {
   "cell_type": "markdown",
   "metadata": {},
   "source": [
    "## Solution"
   ]
  },
  {
   "cell_type": "markdown",
   "metadata": {},
   "source": [
    "The possible rolls that can sum to 6 for two dice are:\n",
    "* $1 + 5$\n",
    "* $2 + 4$\n",
    "* $3 + 3$\n",
    "* $4 + 2$\n",
    "* $5 + 1$\n",
    "\n",
    "The $3 + 3$ roll will be excluded because the two dice have to have different values. This means that there are a total of $4$ possible combinations that will sum to 6 with each dice having unique values. Since there are 36 possible combinations, the probability of our event happening is $4/36 = 1/9$."
   ]
  }
 ],
 "metadata": {
  "kernelspec": {
   "display_name": "Python 3",
   "language": "python",
   "name": "python3"
  },
  "language_info": {
   "codemirror_mode": {
    "name": "ipython",
    "version": 3
   },
   "file_extension": ".py",
   "mimetype": "text/x-python",
   "name": "python",
   "nbconvert_exporter": "python",
   "pygments_lexer": "ipython3",
   "version": "3.6.3"
  }
 },
 "nbformat": 4,
 "nbformat_minor": 2
}
