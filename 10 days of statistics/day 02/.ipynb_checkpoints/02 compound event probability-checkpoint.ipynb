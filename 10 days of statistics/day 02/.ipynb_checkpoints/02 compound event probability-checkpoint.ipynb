{
 "cells": [
  {
   "cell_type": "markdown",
   "metadata": {},
   "source": [
    "## Problem"
   ]
  },
  {
   "cell_type": "markdown",
   "metadata": {},
   "source": [
    "There are 3 urns labeled X, Y, and Z.\n",
    "\n",
    "\n",
    "* Urn X contains 4 red balls and 3 black balls.\n",
    "* Urn Y contains 5 red balls and 4 black balls.\n",
    "* Urn Z contains 4 red balls and 4 black balls. \n",
    "\n",
    "One ball is drawn from each of the 3 urns. What is the probability that, of the 3 balls drawn, 2 are red and 1 is black?"
   ]
  },
  {
   "cell_type": "markdown",
   "metadata": {},
   "source": [
    "## Solution"
   ]
  },
  {
   "cell_type": "markdown",
   "metadata": {},
   "source": [
    "Let's list some probabilities:\n",
    "\n",
    "$P(R|X) = \\frac{4}{7}$ <br/>\n",
    "$P(B|X) = \\frac{3}{7}$ <br/>\n",
    "$P(R|Y) = \\frac{5}{9}$ <br/>\n",
    "$P(B|Y) = \\frac{4}{9}$ <br/>\n",
    "$P(R|Z) = \\frac{4}{8}$ <br/>\n",
    "$P(B|Z) = \\frac{4}{8}$ <br/>\n",
    "\n",
    "The probability of drawing the red balls from X and Y are:<br/>\n",
    "$P(R|X)P(R|Y)P(B|Z) = \\frac{4}{7} \\times \\frac{5}{9} \\times \\frac{4}{8} = \\frac{10}{63}$<br/>\n",
    "\n",
    "The probability of drawing the red balls from X and Z are:<br/>\n",
    "$P(R|X)P(B|Y)P(R|Z) = \\frac{4}{7} \\times \\frac{4}{9} \\times \\frac{4}{8} = \\frac{8}{63}$<br/>\n",
    "\n",
    "The probability of drawing the red balls from Y and Z are:<br/>\n",
    "$P(B|X)P(R|Y)P(R|Z) = \\frac{3}{7} \\times \\frac{5}{9} \\times \\frac{4}{8} = \\frac{5}{42}$<br/>\n",
    "\n",
    "The sum of these probabilities are:<br/>\n",
    "$\\frac{10}{63} + \\frac{8}{63} + \\frac{5}{42} = \\frac{17}{42}$"
   ]
  }
 ],
 "metadata": {
  "kernelspec": {
   "display_name": "Python 3",
   "language": "python",
   "name": "python3"
  },
  "language_info": {
   "codemirror_mode": {
    "name": "ipython",
    "version": 3
   },
   "file_extension": ".py",
   "mimetype": "text/x-python",
   "name": "python",
   "nbconvert_exporter": "python",
   "pygments_lexer": "ipython3",
   "version": "3.6.3"
  }
 },
 "nbformat": 4,
 "nbformat_minor": 2
}
