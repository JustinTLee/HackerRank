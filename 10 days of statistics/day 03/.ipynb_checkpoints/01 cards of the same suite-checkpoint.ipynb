{
 "cells": [
  {
   "cell_type": "markdown",
   "metadata": {},
   "source": [
    "## Problem"
   ]
  },
  {
   "cell_type": "markdown",
   "metadata": {},
   "source": [
    "You draw 2 cards from a standard 52-card deck without replacing them. What is the probability that both cards are of the same suit?"
   ]
  },
  {
   "cell_type": "markdown",
   "metadata": {},
   "source": [
    "## Solution"
   ]
  },
  {
   "cell_type": "markdown",
   "metadata": {},
   "source": [
    "The first card you draw has a probability of 1 because the suite hasn't been chosen yet. The first card will set the suite that the next card has to align to. Since 1 card is drawn, there are 51 cards left in the deck, and 12 cards left of that particular suite in the deck. Therefore, the probability is $\\frac{12}{51}$."
   ]
  }
 ],
 "metadata": {
  "kernelspec": {
   "display_name": "Python 3",
   "language": "python",
   "name": "python3"
  },
  "language_info": {
   "codemirror_mode": {
    "name": "ipython",
    "version": 3
   },
   "file_extension": ".py",
   "mimetype": "text/x-python",
   "name": "python",
   "nbconvert_exporter": "python",
   "pygments_lexer": "ipython3",
   "version": "3.6.4"
  }
 },
 "nbformat": 4,
 "nbformat_minor": 2
}
