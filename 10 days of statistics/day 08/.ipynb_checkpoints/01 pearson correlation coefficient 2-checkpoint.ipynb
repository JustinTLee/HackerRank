{
 "cells": [
  {
   "cell_type": "markdown",
   "metadata": {},
   "source": [
    "## Problem"
   ]
  },
  {
   "cell_type": "markdown",
   "metadata": {},
   "source": [
    "The regression line of $y$ on $x$ is $3x + 4y + 8 = 0$, and the regression line of $x$ on $y$ is $4x + 3y + 7 = 0$. What is the value of the Pearson correlation coefficient?"
   ]
  },
  {
   "cell_type": "markdown",
   "metadata": {},
   "source": [
    "## Solution"
   ]
  },
  {
   "cell_type": "markdown",
   "metadata": {},
   "source": [
    "The slope can be written as:\n",
    "\n",
    "\\begin{equation*}\n",
    "\\beta_{1} = r_{x, y}\\frac{\\sigma_{y}}{\\sigma_{x}}\n",
    "\\end{equation*}\n",
    "\n",
    "So, for the regression line of $y$ on $x$ being $3x + 4y + 8 = 0$, we have $y = -\\frac{3}{4}x - 2$. Therefore, $r_{x, y}\\frac{\\sigma_{y}}{\\sigma_{x}} = -\\frac{3}{4}$.\n",
    "\n",
    "The regression line of $x$ on $y$ being $4x + 3y + 7 = 0$, we have $x = -\\frac{3}{4}y - \\frac{7}{4}$. Therefore, $r_{x, y}\\frac{\\sigma_{x}}{\\sigma_{y}} = -\\frac{3}{4}$.\n",
    "\n",
    "We can mutiply both equations together:\n",
    "\n",
    "\\begin{equation*}\n",
    "r_{x, y}\\frac{\\sigma_{y}}{\\sigma_{x}}r_{x, y}\\frac{\\sigma_{x}}{\\sigma_{y}} = \\left(-\\frac{3}{4}\\right)^{2}\n",
    "\\end{equation*}\n",
    "\n",
    "Simplifying:\n",
    "\n",
    "\\begin{equation*}\n",
    "r_{x, y}^2 = \\frac{9}{16}\n",
    "\\end{equation*}\n",
    "\n",
    "Making:\n",
    "\n",
    "\\begin{equation*}\n",
    "r_{x, y} = \\pm \\frac{3}{4}\n",
    "\\end{equation*}\n",
    "\n",
    "Since the slope is negative for both equations, the correlation is also negative. Thus, $r_{x, y} = -\\frac{3}{4}$."
   ]
  }
 ],
 "metadata": {
  "kernelspec": {
   "display_name": "Python 3",
   "language": "python",
   "name": "python3"
  },
  "language_info": {
   "codemirror_mode": {
    "name": "ipython",
    "version": 3
   },
   "file_extension": ".py",
   "mimetype": "text/x-python",
   "name": "python",
   "nbconvert_exporter": "python",
   "pygments_lexer": "ipython3",
   "version": "3.6.1"
  }
 },
 "nbformat": 4,
 "nbformat_minor": 2
}
